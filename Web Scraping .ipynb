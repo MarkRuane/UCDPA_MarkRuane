{
 "cells": [
  {
   "cell_type": "markdown",
   "id": "1b98f8b7",
   "metadata": {},
   "source": [
    "# Scraping GDP & Population from link below"
   ]
  },
  {
   "cell_type": "markdown",
   "id": "34c2c946",
   "metadata": {},
   "source": [
    "https://worldpopulationreview.com/country-rankings/gdp-per-capita-by-country "
   ]
  },
  {
   "cell_type": "code",
   "execution_count": 1,
   "id": "9ff882f4",
   "metadata": {},
   "outputs": [],
   "source": [
    "import pandas as pd\n",
    "import requests\n",
    "from bs4 import BeautifulSoup as bs"
   ]
  },
  {
   "cell_type": "code",
   "execution_count": 2,
   "id": "71fc70dc",
   "metadata": {},
   "outputs": [],
   "source": [
    "pop = requests.get('https://worldpopulationreview.com/country-rankings/gdp-per-capita-by-country')\n",
    "Ranking = bs(pop.content, 'lxml')"
   ]
  },
  {
   "cell_type": "code",
   "execution_count": 3,
   "id": "ce61524b",
   "metadata": {},
   "outputs": [],
   "source": [
    "table = Ranking.find(\"table\", {\"class\":\"jsx-2006211681 table is-striped is-hoverable is-fullwidth tp-table-body is-narrow\"})"
   ]
  },
  {
   "cell_type": "code",
   "execution_count": 4,
   "id": "1b3ba3e5",
   "metadata": {},
   "outputs": [],
   "source": [
    "df1 = pd.read_html(str(table))[0]"
   ]
  },
  {
   "cell_type": "code",
   "execution_count": 5,
   "id": "b7178f9a",
   "metadata": {},
   "outputs": [
    {
     "data": {
      "text/html": [
       "<div>\n",
       "<style scoped>\n",
       "    .dataframe tbody tr th:only-of-type {\n",
       "        vertical-align: middle;\n",
       "    }\n",
       "\n",
       "    .dataframe tbody tr th {\n",
       "        vertical-align: top;\n",
       "    }\n",
       "\n",
       "    .dataframe thead th {\n",
       "        text-align: right;\n",
       "    }\n",
       "</style>\n",
       "<table border=\"1\" class=\"dataframe\">\n",
       "  <thead>\n",
       "    <tr style=\"text-align: right;\">\n",
       "      <th></th>\n",
       "      <th>Ranking</th>\n",
       "      <th>Country</th>\n",
       "      <th>GDP per Capita</th>\n",
       "      <th>2022 Population</th>\n",
       "    </tr>\n",
       "  </thead>\n",
       "  <tbody>\n",
       "    <tr>\n",
       "      <th>0</th>\n",
       "      <td>1</td>\n",
       "      <td>Luxembourg</td>\n",
       "      <td>$118,001</td>\n",
       "      <td>642371</td>\n",
       "    </tr>\n",
       "    <tr>\n",
       "      <th>1</th>\n",
       "      <td>2</td>\n",
       "      <td>Singapore</td>\n",
       "      <td>$97,057</td>\n",
       "      <td>5943546</td>\n",
       "    </tr>\n",
       "    <tr>\n",
       "      <th>2</th>\n",
       "      <td>3</td>\n",
       "      <td>Ireland</td>\n",
       "      <td>$94,392</td>\n",
       "      <td>5020199</td>\n",
       "    </tr>\n",
       "    <tr>\n",
       "      <th>3</th>\n",
       "      <td>4</td>\n",
       "      <td>Qatar</td>\n",
       "      <td>$93,508</td>\n",
       "      <td>2979915</td>\n",
       "    </tr>\n",
       "    <tr>\n",
       "      <th>4</th>\n",
       "      <td>5</td>\n",
       "      <td>Switzerland</td>\n",
       "      <td>$72,874</td>\n",
       "      <td>8773637</td>\n",
       "    </tr>\n",
       "    <tr>\n",
       "      <th>...</th>\n",
       "      <td>...</td>\n",
       "      <td>...</td>\n",
       "      <td>...</td>\n",
       "      <td>...</td>\n",
       "    </tr>\n",
       "    <tr>\n",
       "      <th>180</th>\n",
       "      <td>190</td>\n",
       "      <td>Malawi</td>\n",
       "      <td>$993</td>\n",
       "      <td>20180839</td>\n",
       "    </tr>\n",
       "    <tr>\n",
       "      <th>181</th>\n",
       "      <td>191</td>\n",
       "      <td>Central African Republic</td>\n",
       "      <td>$979</td>\n",
       "      <td>5016678</td>\n",
       "    </tr>\n",
       "    <tr>\n",
       "      <th>182</th>\n",
       "      <td>192</td>\n",
       "      <td>Somalia</td>\n",
       "      <td>$925</td>\n",
       "      <td>16841795</td>\n",
       "    </tr>\n",
       "    <tr>\n",
       "      <th>183</th>\n",
       "      <td>193</td>\n",
       "      <td>South Sudan</td>\n",
       "      <td>$791</td>\n",
       "      <td>11618511</td>\n",
       "    </tr>\n",
       "    <tr>\n",
       "      <th>184</th>\n",
       "      <td>194</td>\n",
       "      <td>Burundi</td>\n",
       "      <td>$760</td>\n",
       "      <td>12624840</td>\n",
       "    </tr>\n",
       "  </tbody>\n",
       "</table>\n",
       "<p>185 rows × 4 columns</p>\n",
       "</div>"
      ],
      "text/plain": [
       "     Ranking                   Country GDP per Capita  2022 Population\n",
       "0          1                Luxembourg       $118,001           642371\n",
       "1          2                 Singapore        $97,057          5943546\n",
       "2          3                   Ireland        $94,392          5020199\n",
       "3          4                     Qatar        $93,508          2979915\n",
       "4          5               Switzerland        $72,874          8773637\n",
       "..       ...                       ...            ...              ...\n",
       "180      190                    Malawi           $993         20180839\n",
       "181      191  Central African Republic           $979          5016678\n",
       "182      192                   Somalia           $925         16841795\n",
       "183      193               South Sudan           $791         11618511\n",
       "184      194                   Burundi           $760         12624840\n",
       "\n",
       "[185 rows x 4 columns]"
      ]
     },
     "execution_count": 5,
     "metadata": {},
     "output_type": "execute_result"
    }
   ],
   "source": [
    "df1"
   ]
  },
  {
   "cell_type": "code",
   "execution_count": 11,
   "id": "8d3093da",
   "metadata": {},
   "outputs": [],
   "source": [
    "df1.to_csv(\"gdp_pop.csv\")"
   ]
  },
  {
   "cell_type": "code",
   "execution_count": null,
   "id": "54b4b406",
   "metadata": {},
   "outputs": [],
   "source": []
  }
 ],
 "metadata": {
  "kernelspec": {
   "display_name": "Python 3",
   "language": "python",
   "name": "python3"
  },
  "language_info": {
   "codemirror_mode": {
    "name": "ipython",
    "version": 3
   },
   "file_extension": ".py",
   "mimetype": "text/x-python",
   "name": "python",
   "nbconvert_exporter": "python",
   "pygments_lexer": "ipython3",
   "version": "3.8.8"
  }
 },
 "nbformat": 4,
 "nbformat_minor": 5
}
